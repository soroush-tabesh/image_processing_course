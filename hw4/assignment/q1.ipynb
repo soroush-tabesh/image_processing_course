{
 "cells": [
  {
   "cell_type": "markdown",
   "metadata": {
    "collapsed": true,
    "pycharm": {
     "name": "#%% md\n"
    }
   },
   "source": [
    "## Texture Synthesis\n",
    "\n",
    "<p style='direction:rtl; text-align: right'>\n",
    "در این تمرین برای سنتز تکسچر از الگوریتم Image Quilting استفاده کردم.\n",
    "<br>\n",
    "در پیاده‌سازی آن، ابتدا یک قطعه از تکسچر مرجع به طور تصادفی انتخاب می‌شود و در تضویر نهایی قرار داده می‌شود. سپس در تکسچر مرجع، به دنبال قطعه‌‌ی\n",
    "دیگر می‌گردیم که لبه سمت چپش همانند لبه‌ی راست تکسچر تصادفی انتخاب شده باشد و پس از آن بین دو قطعه عکس دنبال برشی می‌گردیم که\n",
    "کمترین مجموع بین دو قطعه را ایجاد کند. برای پیدا کردن برش، از برنامه ریزی پویا استفاده کردم. بدین صورت که ابتدا ماتریس قدر مطلق تفاضل لبه‌ی دو عکس را ساختم سپس\n",
    "در این ماتریس به دنبال یک مسیر با کمترین مجموع از ردیف بالا به به ردیف پایین با حرکت‌های پایین‌رو، پایین‌چپ و پایین‌راست با برنامه ریزی پویا جست و جو\n",
    "انجام دادم. درنهایت با استفاده از برش پیدا شده، یک ماسک ساختم و با استفاده از آن، دو قطعه تصویر را ترکیب کردم. البته برای طبیعی تر به نظر آمدن ترکیب،\n",
    "روی ماسک فیلتر گوسی اعمال کردم و همچنین پیش از یافتن کم‌وزن ترین برش، روی ماتریس تفاضلات نیز فیلتر گوسی اعمال کردم.\n",
    "<br>\n",
    "در ادامه نیز به صورت مرتب، قطعات دیگری را با همین روش قرار دادم تا تکسچر نهایی ساخته شود.\n",
    "</p>\n"
   ]
  },
  {
   "cell_type": "code",
   "source": [
    "import numpy as np\n",
    "from skimage import draw\n",
    "import cv2 as cv\n",
    "from matplotlib import pyplot as plt\n",
    "\n",
    "texture_o = cv.cvtColor(cv.imread('./data/texture1.jpg'), cv.COLOR_BGR2RGB)\n",
    "\n",
    "sz_tar_f = np.array([2500, 2500])\n",
    "sz_smp = 300\n",
    "sz_ovlp = 100\n",
    "\n",
    "cnt_smp = np.ceil(np.array(sz_tar_f) / (sz_smp - sz_ovlp)).astype(np.int)\n",
    "sz_tar = cnt_smp * (sz_smp - sz_ovlp) + sz_ovlp\n",
    "\n",
    "texture_g = []\n",
    "texture = []\n",
    "texture_g.append(cv.cvtColor(texture_o, cv.COLOR_RGB2GRAY))\n",
    "texture.append(texture_o.copy())\n",
    "for i in range(3):\n",
    "    texture_g.append(np.transpose(texture_g[-1][::-1, :]))\n",
    "    texture.append(np.transpose(texture[-1][::-1, :, :], axes=[1, 0, 2]))\n",
    "texture_g.append(np.transpose(cv.cvtColor(texture_o, cv.COLOR_RGB2GRAY)))\n",
    "texture.append(np.transpose(texture_o.copy(), axes=[1, 0, 2]))\n",
    "for i in range(3):\n",
    "    texture_g.append(np.transpose(texture_g[-1][::-1, :]))\n",
    "    texture.append(np.transpose(texture[-1][::-1, :, :], axes=[1, 0, 2]))"
   ],
   "metadata": {
    "collapsed": false,
    "pycharm": {
     "name": "#%%\n"
    }
   },
   "execution_count": null,
   "outputs": []
  },
  {
   "cell_type": "markdown",
   "source": [
    "<p style='direction:rtl; text-align: right'>\n",
    "در اینجا پارامتر sz_tar_f سایز تکسچر نهایی، sz_smp سایز سمپل های تکرار شونده مرجع و sz_ovlp طول برهم‌نهی قطعات است.\n",
    "</p>"
   ],
   "metadata": {
    "collapsed": false,
    "pycharm": {
     "name": "#%% md\n"
    }
   }
  },
  {
   "cell_type": "code",
   "execution_count": null,
   "outputs": [],
   "source": [
    "def draw_sample(src, pt, size):\n",
    "    size = np.array(size)\n",
    "    if size.size < 2:\n",
    "        size = np.array([size, size])\n",
    "    return src[pt[0]:pt[0] + size[0], pt[1]:pt[1] + size[1]]\n",
    "\n",
    "\n",
    "def draw_random_sample(src, size):\n",
    "    size = np.array(size)\n",
    "    if size.size < 2:\n",
    "        size = np.array([size, size])\n",
    "    rect = np.array(src.shape[:2]) - size\n",
    "    pt = np.random.randint(0, high=rect)\n",
    "    return draw_sample(src, pt, size)\n",
    "\n",
    "\n",
    "def find_similar_sample(fld, templ, mask=None):\n",
    "    mtc = cv.matchTemplate(fld, templ, cv.TM_CCORR_NORMED, mask=mask)\n",
    "    return np.unravel_index(np.argmax(mtc), mtc.shape)"
   ],
   "metadata": {
    "collapsed": false,
    "pycharm": {
     "name": "#%%\n"
    }
   }
  },
  {
   "cell_type": "markdown",
   "source": [
    "<p style='direction:rtl; text-align: right'>\n",
    "در صورتی که جست و جو را روی فضای grayscale انجام دهیم، ساختار تکسچر بیشتر از رنگ‌های آن حفظ می‌شود و برای مثال در تکسچر دوم حفظ ساختار\n",
    "کروی قطعات جلوه‌ی بهتری دارد.\n",
    "برای استفاده از حالت grayscalea می‌توان templ و flds را grayscale ارائه داد.\n",
    "</p>"
   ],
   "metadata": {
    "collapsed": false
   }
  },
  {
   "cell_type": "code",
   "execution_count": null,
   "outputs": [],
   "source": [
    "def draw_random_similar_sample(srcs, templ, flds, l_strip, hor=False, ver=True):\n",
    "    \"\"\"template and field must be in same color space.\"\"\"\n",
    "    size = templ.shape\n",
    "    kt = np.random.randint(0, len(srcs))\n",
    "    src = srcs[kt]\n",
    "    fld = flds[kt]\n",
    "    mask = np.zeros(templ.shape, dtype=np.uint8)\n",
    "    a = b = -1\n",
    "    if hor:\n",
    "        mask[:l_strip, :] = 255\n",
    "        a = -size[0] + l_strip\n",
    "    if ver:\n",
    "        mask[:, :l_strip] = 255\n",
    "        b = -size[1] + l_strip\n",
    "    pt = find_similar_sample(fld[:a, :b], templ, mask)\n",
    "    return draw_sample(src, pt, size)\n",
    "\n",
    "\n",
    "def get_mag(src):\n",
    "    src = src ** 2\n",
    "    res = np.zeros(src.shape[:2])\n",
    "    if len(src.shape) > 2:\n",
    "        for i in range(3):\n",
    "            res += src[:, :, i]\n",
    "    else:\n",
    "        res += src\n",
    "    res = np.sqrt(res)\n",
    "    return res\n",
    "\n",
    "\n",
    "def find_shortest_path(mat, spr=1, diag=1):\n",
    "    dp = np.ones_like(mat) * 1000000000\n",
    "    dp_arg = np.ones(mat.shape, dtype=int) * -1\n",
    "    dp[0, :] = 0\n",
    "    dp_arg[0, :] = -1\n",
    "    for i in range(1, mat.shape[0]):\n",
    "        for j in range(mat.shape[1]):\n",
    "            for j2 in range(max(0, j - spr), min(mat.shape[1], j + spr + 1)):\n",
    "                dist = 0\n",
    "                if abs(j - j2) > diag:\n",
    "                    pass\n",
    "                else:\n",
    "                    dist = dp[i - 1, j2] + mat[i - 1, j2]\n",
    "                if dist < dp[i, j]:\n",
    "                    dp[i, j] = dist\n",
    "                    dp_arg[i, j] = j2\n",
    "    arg_mn = np.argmin(dp[-1, :])\n",
    "    arg_i = mat.shape[0] - 1\n",
    "    res = [(arg_i, arg_mn)]\n",
    "    while arg_i > 0:\n",
    "        arg_mn = dp_arg[arg_i, arg_mn]\n",
    "        arg_i -= 1\n",
    "        res.append((arg_i, arg_mn))\n",
    "    res.reverse()\n",
    "    return np.array(res)\n",
    "\n",
    "\n",
    "def get_shortest_path_mask(mat, spr=1, diag=1, ker_prep=5):\n",
    "    mat = cv.GaussianBlur(mat, (ker_prep, ker_prep), 0)\n",
    "    verts = find_shortest_path(mat, spr, diag)\n",
    "    verts = np.concatenate((verts, [[mat.shape[0], 0], [0, 0]]), axis=0)\n",
    "    return draw.polygon2mask(mat.shape[:2], verts)\n",
    "\n",
    "\n",
    "def get_mask_cut(tmpl1, tmpl2, l_strip, hor=False, ver=True, ker_edge=15, ker_prep=5):\n",
    "    mask = np.zeros(tmpl2.shape[:2], dtype=np.bool)\n",
    "    if ver:\n",
    "        mask[:, :l_strip] |= get_shortest_path_mask(get_mag(tmpl1[:, :l_strip] - tmpl2[:, :l_strip]),\n",
    "                                                    ker_prep=ker_prep)\n",
    "    if hor:\n",
    "        mask[:l_strip, :] |= get_shortest_path_mask(get_mag(tmpl1[:l_strip, :] - tmpl2[:l_strip, :]).T,\n",
    "                                                    ker_prep=ker_prep).T\n",
    "    mask = mask * 1.0\n",
    "    mask = cv.GaussianBlur(mask, (ker_edge, ker_edge), 0)\n",
    "    return mask\n",
    "\n",
    "\n",
    "res = np.zeros((*sz_tar, 3), dtype=np.uint8)\n",
    "\n",
    "for i, j in np.ndindex(*cnt_smp):\n",
    "    if i == 0:\n",
    "        if j == 0:\n",
    "            res[:sz_smp, :sz_smp] = draw_random_sample(texture[0], sz_smp)\n",
    "            continue\n",
    "    r = i * (sz_smp - sz_ovlp)\n",
    "    c = j * (sz_smp - sz_ovlp)\n",
    "    smp_old = res[r:r + sz_smp, c:c + sz_smp]\n",
    "    smp_new = draw_random_similar_sample(texture, smp_old, texture, sz_ovlp\n",
    "                                         , i != 0, j != 0)\n",
    "    msk = get_mask_cut(smp_old, smp_new, sz_ovlp, i != 0, j != 0)[:, :, None]\n",
    "    smp = np.uint8(smp_old * msk + (1 - msk) * smp_new)\n",
    "    res[r:r + sz_smp, c:c + sz_smp] = smp\n",
    "\n",
    "res = res[:sz_tar_f[0], :sz_tar_f[1]]\n",
    "\n",
    "plt.imsave('./out/res1_1.jpg', res)\n",
    "\n"
   ],
   "metadata": {
    "collapsed": false,
    "pycharm": {
     "name": "#%%\n"
    }
   }
  }
 ],
 "metadata": {
  "kernelspec": {
   "display_name": "Python 3",
   "language": "python",
   "name": "python3"
  },
  "language_info": {
   "codemirror_mode": {
    "name": "ipython",
    "version": 2
   },
   "file_extension": ".py",
   "mimetype": "text/x-python",
   "name": "python",
   "nbconvert_exporter": "python",
   "pygments_lexer": "ipython2",
   "version": "2.7.6"
  }
 },
 "nbformat": 4,
 "nbformat_minor": 0
}